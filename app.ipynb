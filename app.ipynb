{
 "cells": [
  {
   "cell_type": "code",
   "execution_count": null,
   "id": "ebc5a775-568d-4ce2-b621-7bf2bcce1caf",
   "metadata": {
    "scrolled": true
   },
   "outputs": [],
   "source": [
    "!pip install git+https://github.com/openai/whisper.git"
   ]
  },
  {
   "cell_type": "code",
   "execution_count": null,
   "id": "775f0fe6-6f13-4740-b631-4da5aa047d78",
   "metadata": {},
   "outputs": [],
   "source": [
    "import gc\n",
    "import pickle\n",
    "\n",
    "import torch\n",
    "import whisper\n",
    "from langchain import HuggingFaceHub, HuggingFacePipeline, PromptTemplate\n",
    "from langchain.chains import RetrievalQA\n",
    "from langchain.text_splitter import RecursiveCharacterTextSplitter\n",
    "from langchain.vectorstores import FAISS\n",
    "from langchain_community.embeddings.huggingface import HuggingFaceEmbeddings\n",
    "from pytube import YouTube\n",
    "from sklearn.metrics.pairwise import cosine_similarity\n",
    "from transformers import AutoModelForCausalLM, AutoTokenizer, pipeline\n",
    "\n",
    "if torch.backends.mps.is_available():\n",
    "    mps_device = torch.device(\"mps\")\n",
    "    x = torch.ones(1, device=mps_device)\n",
    "    print(x)\n",
    "else:\n",
    "    print(\"MPS device not found.\")"
   ]
  },
  {
   "cell_type": "code",
   "execution_count": null,
   "id": "6450699e-96bb-458c-abcc-4e5cf76ed756",
   "metadata": {},
   "outputs": [],
   "source": [
    "DOWNLOAD_AND_PROCESS_VIDEOS = False"
   ]
  },
  {
   "cell_type": "code",
   "execution_count": null,
   "id": "b1b86674-c92e-4141-9bb8-d908dd82a71e",
   "metadata": {},
   "outputs": [],
   "source": [
    "def download_video_and_return_file_name(url: str) -> str:\n",
    "    yt = YouTube(url=url, use_oauth=True, allow_oauth_cache=True)\n",
    "    title = yt.streams[0].title\n",
    "    audios = yt.streams.filter(only_audio=True)\n",
    "    video_audio = audios[-1]\n",
    "\n",
    "    file_name = title.lower().replace(\" \", \"_\") + \".mp3\"\n",
    "    video_audio.download(filename=f\"{file_name}\")\n",
    "    return file_name"
   ]
  },
  {
   "cell_type": "code",
   "execution_count": null,
   "id": "374cd7ba-8606-4954-b86a-f230096393dc",
   "metadata": {},
   "outputs": [],
   "source": [
    "raw_transcriptions = []\n",
    "\n",
    "video_urls = [\n",
    "    \"https://youtu.be/l8yx1MPtWBc?si=FG3khkaRT7uJ_V2C\",\n",
    "    \"https://youtu.be/2HV6sKCqeZo?si=KD9cxOHOzGhdw8pH\",\n",
    "    \"https://youtu.be/W7bsI4d4YKY?si=qqwmGzpWLnTxt1Ed\",\n",
    "    \"https://youtu.be/Ul_o0hMJMZA?si=xEWJjFYVYITz1khF\",\n",
    "]\n",
    "\n",
    "if DOWNLOAD_AND_PROCESS_VIDEOS:\n",
    "\n",
    "    videos_locations = []\n",
    "\n",
    "    for url in video_urls:\n",
    "        file_name = download_video_and_return_file_name(url)\n",
    "        videos_locations.append(file_name)\n",
    "        print(f\"For the video {url} has been downloaded!\")\n",
    "        collected = gc.collect()\n",
    "\n",
    "    whisper_model = whisper.load_model(\"large-v2\")\n",
    "\n",
    "    for file_name in videos_locations:\n",
    "        raw_transcriptions.append(\n",
    "            whisper_model.transcribe(file_name, task=\"transcribe\", language=\"English\")\n",
    "        )\n",
    "        collected = gc.collect()\n",
    "\n",
    "    with open(\"pamuk.pkl\", \"wb\") as f:\n",
    "        pickle.dump(raw_transcriptions, f)\n",
    "else:\n",
    "    with open(\"pamuk.pkl\", \"rb\") as f:\n",
    "        raw_transcriptions = pickle.load(f)"
   ]
  },
  {
   "cell_type": "code",
   "execution_count": null,
   "id": "b9bbc227-d3a6-4633-b5f1-c7ae784c51ae",
   "metadata": {},
   "outputs": [],
   "source": [
    "scripts = \" \".join(text[\"text\"] for text in raw_transcriptions)"
   ]
  },
  {
   "cell_type": "code",
   "execution_count": null,
   "id": "adcc4009-6f01-4ddc-bdc9-3ea5534a3d7f",
   "metadata": {},
   "outputs": [],
   "source": [
    "len(scripts)"
   ]
  },
  {
   "cell_type": "code",
   "execution_count": null,
   "id": "d5783edd-b377-415b-9f99-a499cc31297c",
   "metadata": {},
   "outputs": [],
   "source": [
    "text_splitter = RecursiveCharacterTextSplitter(\n",
    "    chunk_size=500, chunk_overlap=100, separators=[\".\"]\n",
    ")\n",
    "\n",
    "documents = text_splitter.create_documents([scripts])\n",
    "sentences = [document.page_content for document in documents]"
   ]
  },
  {
   "cell_type": "code",
   "execution_count": null,
   "id": "025e6913-a260-4f77-94ee-8fe2c18f7c25",
   "metadata": {
    "scrolled": true
   },
   "outputs": [],
   "source": [
    "print(f\"Size of sentences: {len(sentences)}\")\n",
    "print(f\"Examples:\")\n",
    "print(sentences[:5])"
   ]
  },
  {
   "cell_type": "code",
   "execution_count": null,
   "id": "10b16e29-ff93-42d7-b500-e65782502c09",
   "metadata": {},
   "outputs": [],
   "source": [
    "embeddings = HuggingFaceEmbeddings(model_name=\"all-MiniLM-L6-v2\")"
   ]
  },
  {
   "cell_type": "code",
   "execution_count": null,
   "id": "992595a0-a56d-4039-ad63-acc1512245be",
   "metadata": {},
   "outputs": [],
   "source": [
    "vector_store = FAISS.from_texts(sentences, embeddings)"
   ]
  },
  {
   "cell_type": "code",
   "execution_count": null,
   "id": "a22cbe43-5080-4f31-a722-0719eb2f9ff7",
   "metadata": {},
   "outputs": [],
   "source": [
    "question = \"what is the most difficult part of writing?\"\n",
    "searched_docs = vector_store.similarity_search(question)\n",
    "print(searched_docs[0].page_content)"
   ]
  },
  {
   "cell_type": "code",
   "execution_count": null,
   "id": "6ab5b000-13db-4d1b-9ddf-db575df7ad4e",
   "metadata": {},
   "outputs": [],
   "source": [
    "collected = gc.collect()\n",
    "torch.mps.empty_cache()\n",
    "\n",
    "model = \"TinyLlama/TinyLlama-1.1B-Chat-v1.0\"\n",
    "tokenizer = AutoTokenizer.from_pretrained(model)\n",
    "llm = pipeline(\n",
    "    task=\"text-generation\",\n",
    "    model=model,\n",
    "    tokenizer=tokenizer,\n",
    "    trust_remote_code=True,\n",
    "    max_new_tokens=256,\n",
    "    repetition_penalty=1.6,\n",
    "    model_kwargs={\n",
    "        \"device_map\": \"mps\",\n",
    "        \"load_in_8bit\": False,\n",
    "        \"max_length\": 256,\n",
    "        \"do_sample\": True,\n",
    "        \"temperature\": 1.4,\n",
    "        \"top_k\": 3,\n",
    "        \"top_p\": 1.2,\n",
    "    },\n",
    ")"
   ]
  },
  {
   "cell_type": "code",
   "execution_count": null,
   "id": "d6a7a85d-41b8-4d38-bfac-585f5bf3c065",
   "metadata": {},
   "outputs": [],
   "source": [
    "template = \"\"\"Use the following pieces of context to answer the question at the end. If you don't know the answer, just say that you don't know. Use one sentence only once.\n",
    "Respond in the persona of a talented writer gives some writing advices to the writers.\n",
    "\n",
    "{context}\n",
    "\n",
    "Question: {question}\n",
    "Answer: \n",
    "\"\"\"\n",
    "\n",
    "prompt = PromptTemplate(\n",
    "    template=template,\n",
    "    input_variables=[\n",
    "        \"context\",\n",
    "        \"question\",\n",
    "    ],\n",
    ")\n",
    "\n",
    "hf_llm = HuggingFacePipeline(pipeline=llm)\n",
    "\n",
    "retriever = vector_store.as_retriever()\n",
    "\n",
    "chain = RetrievalQA.from_chain_type(\n",
    "    llm=hf_llm,\n",
    "    chain_type=\"stuff\",\n",
    "    retriever=retriever,\n",
    "    chain_type_kwargs={\"prompt\": prompt},\n",
    ")\n",
    "\n",
    "collected = gc.collect()"
   ]
  },
  {
   "cell_type": "code",
   "execution_count": null,
   "id": "a91c719c-5598-4ca6-a765-87b9c8859a56",
   "metadata": {},
   "outputs": [],
   "source": [
    "%%time\n",
    "\n",
    "query = \"How can I create my character for my new novel?\"\n",
    "result = chain.invoke({\"query\": query})\n",
    "print(result[\"result\"])"
   ]
  },
  {
   "cell_type": "code",
   "execution_count": null,
   "id": "4d3678f4-f2f5-4f53-a719-894558a1ffd8",
   "metadata": {},
   "outputs": [],
   "source": [
    "%%time\n",
    "\n",
    "query = \"How can I prepare myself for my new novel?\"\n",
    "result = chain.invoke({\"query\": query})\n",
    "print(result[\"result\"])"
   ]
  },
  {
   "cell_type": "code",
   "execution_count": null,
   "id": "d1b86f79-a746-48c3-a98d-59ea4dda9c99",
   "metadata": {},
   "outputs": [],
   "source": [
    "%%time\n",
    "\n",
    "query = \"How many pages should I write everyday?\"\n",
    "result = chain.invoke({\"query\": query})\n",
    "print(result[\"result\"])"
   ]
  },
  {
   "cell_type": "code",
   "execution_count": null,
   "id": "bf088c4c-088b-4ac5-8b8e-da24ed79204f",
   "metadata": {},
   "outputs": [],
   "source": [
    "%%time\n",
    "\n",
    "query = \"How should I prepare myself to start a new novel?\"\n",
    "result = chain.invoke({\"query\": query})\n",
    "print(result[\"result\"])"
   ]
  },
  {
   "cell_type": "code",
   "execution_count": null,
   "id": "a93972c1-edea-416e-a115-2d13cf8c1ca7",
   "metadata": {},
   "outputs": [],
   "source": [
    "%%time\n",
    "\n",
    "query = \"How can I benefit from other novels?\"\n",
    "result = chain.invoke({\"query\": query})\n",
    "print(result[\"result\"])"
   ]
  }
 ],
 "metadata": {
  "kernelspec": {
   "display_name": "pamuk_post",
   "language": "python",
   "name": "pamuk_post"
  },
  "language_info": {
   "codemirror_mode": {
    "name": "ipython",
    "version": 3
   },
   "file_extension": ".py",
   "mimetype": "text/x-python",
   "name": "python",
   "nbconvert_exporter": "python",
   "pygments_lexer": "ipython3",
   "version": "3.12.0"
  }
 },
 "nbformat": 4,
 "nbformat_minor": 5
}
